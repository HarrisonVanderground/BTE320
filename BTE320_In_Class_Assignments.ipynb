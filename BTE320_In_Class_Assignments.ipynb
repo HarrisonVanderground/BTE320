{
  "nbformat": 4,
  "nbformat_minor": 0,
  "metadata": {
    "colab": {
      "provenance": [],
      "authorship_tag": "ABX9TyM/dYZOuPkZ0B+Dmh2x3WOX",
      "include_colab_link": true
    },
    "kernelspec": {
      "name": "python3",
      "display_name": "Python 3"
    },
    "language_info": {
      "name": "python"
    }
  },
  "cells": [
    {
      "cell_type": "markdown",
      "metadata": {
        "id": "view-in-github",
        "colab_type": "text"
      },
      "source": [
        "<a href=\"https://colab.research.google.com/github/HarrisonVanderground/BTE320/blob/main/BTE320_In_Class_Assignments.ipynb\" target=\"_parent\"><img src=\"https://colab.research.google.com/assets/colab-badge.svg\" alt=\"Open In Colab\"/></a>"
      ]
    },
    {
      "cell_type": "code",
      "source": [
        "Sales = 12000\n",
        "COGS = 4800\n",
        "Gross_Profit = Sales - COGS\n",
        "Taxes = Gross_Profit * .3\n",
        "Net_Income = Gross_Profit - Taxes\n",
        "print(Net_Income)"
      ],
      "metadata": {
        "colab": {
          "base_uri": "https://localhost:8080/"
        },
        "id": "aSVOZqeDbIfK",
        "outputId": "4ceec525-f00e-4e7f-919f-94939a2bc591"
      },
      "execution_count": null,
      "outputs": [
        {
          "output_type": "stream",
          "name": "stdout",
          "text": [
            "5040.0\n"
          ]
        }
      ]
    },
    {
      "cell_type": "code",
      "source": [
        "sales = float(input('Enter sales ($):'))\n",
        "COGS = 0.4\n",
        "\n",
        "Gross_Profit = sales - COGS * sales\n",
        "print(f\"Gross_Profit: ${Gross_Profit}\")\n",
        "\n",
        "Tax_Rate = float(input('Enter Tax Rate (%):'))\n",
        "Taxes = Gross_Profit * (Tax_Rate/100)\n",
        "Net_Income = Gross_Profit - Taxes\n",
        "print(f\"Net_Income: ${Net_Income}\")\n",
        "type(Net_Income)"
      ],
      "metadata": {
        "colab": {
          "base_uri": "https://localhost:8080/"
        },
        "id": "Qj5f2ds1dHk9",
        "outputId": "4bef1080-68ac-4500-e782-6c2cfa341006"
      },
      "execution_count": null,
      "outputs": [
        {
          "output_type": "stream",
          "name": "stdout",
          "text": [
            "Enter sales ($):12000\n",
            "Gross_Profit: $7200.0\n",
            "Enter Tax Rate (%):30\n",
            "Net_Income: $5040.0\n"
          ]
        },
        {
          "output_type": "execute_result",
          "data": {
            "text/plain": [
              "float"
            ]
          },
          "metadata": {},
          "execution_count": 14
        }
      ]
    },
    {
      "cell_type": "code",
      "source": [
        "D = int(input('Enter annual demand (units/year):'))\n",
        "S = float(input('Enter Reorder Cost ($/order):'))\n",
        "H = float(input('Enter Holding Cost ($/unit/year):'))\n",
        "import math\n",
        "EOQ = math.sqrt(2 * D * S/H)\n",
        "print(f'EOQ: {EOQ} units')\n"
      ],
      "metadata": {
        "colab": {
          "base_uri": "https://localhost:8080/"
        },
        "id": "9n8JUoUCnByU",
        "outputId": "462a9e58-2175-4eda-960b-1d1f48a99e09"
      },
      "execution_count": 5,
      "outputs": [
        {
          "output_type": "stream",
          "name": "stdout",
          "text": [
            "Enter annual demand (units/year):100\n",
            "Enter Reorder Cost ($/order):1.5\n",
            "Enter Holding Cost ($/unit/year):3\n",
            "EOQ: 10.0 units\n"
          ]
        }
      ]
    }
  ]
}