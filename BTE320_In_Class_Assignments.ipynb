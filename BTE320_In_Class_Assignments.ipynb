{
  "nbformat": 4,
  "nbformat_minor": 0,
  "metadata": {
    "colab": {
      "provenance": [],
      "authorship_tag": "ABX9TyNuvO+Ji1zrUnkenpHGTOsI",
      "include_colab_link": true
    },
    "kernelspec": {
      "name": "python3",
      "display_name": "Python 3"
    },
    "language_info": {
      "name": "python"
    }
  },
  "cells": [
    {
      "cell_type": "markdown",
      "metadata": {
        "id": "view-in-github",
        "colab_type": "text"
      },
      "source": [
        "<a href=\"https://colab.research.google.com/github/HarrisonVanderground/BTE320/blob/main/BTE320_In_Class_Assignments.ipynb\" target=\"_parent\"><img src=\"https://colab.research.google.com/assets/colab-badge.svg\" alt=\"Open In Colab\"/></a>"
      ]
    },
    {
      "cell_type": "code",
      "source": [
        "Sales = 12000\n",
        "COGS = 4800\n",
        "Gross_Profit = Sales - COGS\n",
        "Taxes = Gross_Profit * .3\n",
        "Net_Income = Gross_Profit - Taxes\n",
        "print(Net_Income)"
      ],
      "metadata": {
        "colab": {
          "base_uri": "https://localhost:8080/"
        },
        "id": "aSVOZqeDbIfK",
        "outputId": "4ceec525-f00e-4e7f-919f-94939a2bc591"
      },
      "execution_count": null,
      "outputs": [
        {
          "output_type": "stream",
          "name": "stdout",
          "text": [
            "5040.0\n"
          ]
        }
      ]
    },
    {
      "cell_type": "code",
      "source": [
        "sales = float(input('Enter sales ($):'))\n",
        "COGS = 0.4\n",
        "\n",
        "Gross_Profit = sales - COGS * sales\n",
        "print(f\"Gross_Profit: ${Gross_Profit}\")\n",
        "\n",
        "Tax_Rate = float(input('Enter Tax Rate (%):'))\n",
        "Taxes = Gross_Profit * (Tax_Rate/100)\n",
        "Net_Income = Gross_Profit - Taxes\n",
        "print(f\"Net_Income: ${Net_Income}\")\n",
        "type(Net_Income)"
      ],
      "metadata": {
        "colab": {
          "base_uri": "https://localhost:8080/"
        },
        "id": "Qj5f2ds1dHk9",
        "outputId": "4bef1080-68ac-4500-e782-6c2cfa341006"
      },
      "execution_count": null,
      "outputs": [
        {
          "output_type": "stream",
          "name": "stdout",
          "text": [
            "Enter sales ($):12000\n",
            "Gross_Profit: $7200.0\n",
            "Enter Tax Rate (%):30\n",
            "Net_Income: $5040.0\n"
          ]
        },
        {
          "output_type": "execute_result",
          "data": {
            "text/plain": [
              "float"
            ]
          },
          "metadata": {},
          "execution_count": 14
        }
      ]
    },
    {
      "cell_type": "code",
      "source": [
        "D = int(input('Enter annual demand (units/year):'))\n",
        "S = float(input('Enter Reorder Cost ($/order):'))\n",
        "H = float(input('Enter Holding Cost ($/unit/year):'))\n",
        "import math\n",
        "EOQ = math.sqrt(2 * D * S/H)\n",
        "print(f'EOQ: {EOQ} units')\n"
      ],
      "metadata": {
        "colab": {
          "base_uri": "https://localhost:8080/"
        },
        "id": "9n8JUoUCnByU",
        "outputId": "462a9e58-2175-4eda-960b-1d1f48a99e09"
      },
      "execution_count": null,
      "outputs": [
        {
          "output_type": "stream",
          "name": "stdout",
          "text": [
            "Enter annual demand (units/year):100\n",
            "Enter Reorder Cost ($/order):1.5\n",
            "Enter Holding Cost ($/unit/year):3\n",
            "EOQ: 10.0 units\n"
          ]
        }
      ]
    },
    {
      "cell_type": "code",
      "source": [
        "First = float(input('Enter first number:'))\n",
        "Second = float(input('Enter second number:'))\n",
        "Operator = str(input('Enter operator:'))\n",
        "\n",
        "if Operator == '+':\n",
        "  print(f'Answer = {First + Second}')\n",
        "elif Operator == '-':\n",
        "  print(f'Answer = {First - Second}')\n",
        "elif Operator == '/':\n",
        "  print( f'Answer = {First / Second}')\n",
        "elif Operator == '*':\n",
        "  print(f'Answer = {First * Second}')\n",
        "elif Operator == '**':\n",
        "  print(f'Answer = {First ** Second}')\n",
        "elif Operator == '%':\n",
        "  print(f'Answer = {First % Second}')\n",
        "elif Operator == '//':\n",
        "  print(f'Answer = {First // Second}')\n",
        "else:\n",
        "  print('Invalid Operator')"
      ],
      "metadata": {
        "id": "sXD6ccC3qkeL"
      },
      "execution_count": null,
      "outputs": []
    },
    {
      "cell_type": "code",
      "source": [],
      "metadata": {
        "id": "ZXDYdshVgypi"
      },
      "execution_count": null,
      "outputs": []
    },
    {
      "cell_type": "code",
      "source": [
        "for Number_of_hours_parked in range(1,9):\n",
        "  fee = 5 + Number_of_hours_parked * 2.5\n",
        "  if fee < 10:\n",
        "    fee = 10\n",
        "    print(Number_of_hours_parked, fee)\n",
        "  elif fee > 20:\n",
        "    fee = 20\n",
        "    print(Number_of_hours_parked, fee)\n",
        "  else:\n",
        "    print(Number_of_hours_parked, fee)\n",
        "\n",
        "\n"
      ],
      "metadata": {
        "colab": {
          "base_uri": "https://localhost:8080/"
        },
        "id": "oZnDgG_XcZg9",
        "outputId": "e7c01ed3-9d42-4005-d383-0d6e5b3b400c"
      },
      "execution_count": null,
      "outputs": [
        {
          "output_type": "stream",
          "name": "stdout",
          "text": [
            "1 10\n",
            "2 10.0\n",
            "3 12.5\n",
            "4 15.0\n",
            "5 17.5\n",
            "6 20.0\n",
            "7 20\n",
            "8 20\n"
          ]
        }
      ]
    },
    {
      "cell_type": "code",
      "source": [
        "\n",
        "for Advertisment_Cost in range(0,201,25):\n",
        "   Revenue = 10 * (20 + 2 * Advertisment_Cost ** .5)\n",
        "   Expenses = Advertisment_Cost + 200\n",
        "   print(Advertisment_Cost, Revenue - Expenses)\n"
      ],
      "metadata": {
        "id": "N2Q4teL6dJf6",
        "colab": {
          "base_uri": "https://localhost:8080/"
        },
        "outputId": "7d9f0bac-5b90-4114-880b-624f7ce1fb7e"
      },
      "execution_count": null,
      "outputs": [
        {
          "output_type": "stream",
          "name": "stdout",
          "text": [
            "0 0.0\n",
            "25 75.0\n",
            "50 91.42135623730951\n",
            "75 98.20508075688781\n",
            "100 100.0\n",
            "125 98.60679774997897\n",
            "150 94.94897427831779\n",
            "175 89.57513110645903\n",
            "200 82.84271247461902\n"
          ]
        }
      ]
    },
    {
      "cell_type": "code",
      "source": [
        "number = []\n",
        "L = int(input('Enter number:'))\n",
        "while L != 0:\n",
        "    number.append(L)   # append to the list\n",
        "    L = int(input('Enter number:'))\n",
        "number.sort(reverse=True)\n",
        "print(number)"
      ],
      "metadata": {
        "colab": {
          "base_uri": "https://localhost:8080/"
        },
        "id": "sBnxycM9yrqH",
        "outputId": "dde4348d-95b1-42b2-9226-8eefa053c564"
      },
      "execution_count": null,
      "outputs": [
        {
          "output_type": "stream",
          "name": "stdout",
          "text": [
            "Enter number:2\n",
            "Enter number:1\n",
            "Enter number:3\n",
            "Enter number:7\n",
            "Enter number:0\n",
            "[7, 3, 2, 1]\n"
          ]
        }
      ]
    },
    {
      "cell_type": "code",
      "source": [
        "import random\n",
        "\n",
        "print(\"Welcome to Rock, Paper, Scissors!\")\n",
        "\n",
        "# Ask user if they want to play\n",
        "play = input(\"Do you want to play? (yes/no): \").lower()\n",
        "\n",
        "while play == \"yes\":\n",
        "    # Computer makes a random choice\n",
        "    computer = random.choice(['rock', 'paper', 'scissors'])\n",
        "\n",
        "    # Get user input\n",
        "    user = input(\"Choose rock, paper, or scissors: \").lower()\n",
        "\n",
        "    # Show computer choice\n",
        "    print(f\"Computer chose: {computer}\")\n",
        "\n",
        "    # Determine winner\n",
        "    if user == computer:\n",
        "        print(\"It's a tie!\")\n",
        "    elif (user == \"rock\" and computer == \"scissors\") or \\\n",
        "         (user == \"paper\" and computer == \"rock\") or \\\n",
        "         (user == \"scissors\" and computer == \"paper\"):\n",
        "        print(\"You win!\")\n",
        "    elif user in [\"rock\", \"paper\", \"scissors\"]:\n",
        "        print(\"You lose!\")\n",
        "    else:\n",
        "        print(\"Invalid choice. Please choose rock, paper, or scissors.\")\n",
        "\n",
        "    # Ask to play again\n",
        "    play = input(\"\\nDo you want to play again? (yes/no): \").lower()\n",
        "\n",
        "print(\"Thanks for playing!\")\n"
      ],
      "metadata": {
        "id": "-TH3IQo34Hc9",
        "colab": {
          "base_uri": "https://localhost:8080/"
        },
        "outputId": "a6316901-d711-4369-e179-f99603bdad76"
      },
      "execution_count": null,
      "outputs": [
        {
          "output_type": "stream",
          "name": "stdout",
          "text": [
            "Welcome to Rock, Paper, Scissors!\n",
            "Do you want to play? (yes/no): yes\n",
            "Choose rock, paper, or scissors: rock\n",
            "Computer chose: scissors\n",
            "You win!\n",
            "\n",
            "Do you want to play again? (yes/no): yes\n",
            "Choose rock, paper, or scissors: paper\n",
            "Computer chose: rock\n",
            "You win!\n",
            "\n",
            "Do you want to play again? (yes/no): yes\n",
            "Choose rock, paper, or scissors: scissors\n",
            "Computer chose: rock\n",
            "You lose!\n",
            "\n",
            "Do you want to play again? (yes/no): no\n",
            "Thanks for playing!\n"
          ]
        }
      ]
    },
    {
      "cell_type": "code",
      "source": [
        "products = {\n",
        "'P-01': 9.95,\n",
        "'P-02': 10.50\n",
        "}\n",
        "\n",
        "id = input('Enter product ID: ')\n",
        "\n",
        "if id in products:\n",
        "      print(f'ID: {id}, Price: {products[id]}$')\n",
        "else:\n",
        "      print(f'{id} not found’)"
      ],
      "metadata": {
        "colab": {
          "base_uri": "https://localhost:8080/",
          "height": 106
        },
        "id": "Vewdhnn3jRZl",
        "outputId": "557f0fc6-5ee8-404d-b18f-a9b3eaa29f2b"
      },
      "execution_count": 1,
      "outputs": [
        {
          "output_type": "error",
          "ename": "SyntaxError",
          "evalue": "invalid non-printable character U+2002 (ipython-input-1174464848.py, line 9)",
          "traceback": [
            "\u001b[0;36m  File \u001b[0;32m\"/tmp/ipython-input-1174464848.py\"\u001b[0;36m, line \u001b[0;32m9\u001b[0m\n\u001b[0;31m    print(f'ID: {id}, Price: {products[id]}$')\u001b[0m\n\u001b[0m    ^\u001b[0m\n\u001b[0;31mSyntaxError\u001b[0m\u001b[0;31m:\u001b[0m invalid non-printable character U+2002\n"
          ]
        }
      ]
    },
    {
      "cell_type": "code",
      "source": [
        "names = {}\n",
        "\n",
        "for i in range(5):\n",
        "name = input('Enter a name: ')\n",
        "\n",
        "if name in names:\n",
        "      names[name] = names[name] + 1 # names[name] += 1\n",
        "else:\n",
        "      names[name] = 1\n",
        "\n",
        "print(names)"
      ],
      "metadata": {
        "id": "1-uah2g-jSor"
      },
      "execution_count": null,
      "outputs": []
    }
  ]
}